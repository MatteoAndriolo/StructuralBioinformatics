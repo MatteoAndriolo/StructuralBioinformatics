{
  "cells": [
    {
      "cell_type": "markdown",
      "metadata": {
        "id": "6iSUuwsWjCG4"
      },
      "source": [
        "# Practicum 1\n",
        "- Basic parsing and iteration of Structure objects in BioPython (PDB module)\n",
        "- Save selected residues into a new PDB file\n",
        "\n",
        "### Biopython cookbook\n",
        "https://biopython.org/DIST/docs/tutorial/Tutorial.html\n",
        "\n",
        "### Bio.PDB module FAQ\n",
        "https://biopython.org/wiki/The_Biopython_Structural_Bioinformatics_FAQ\n"
      ]
    },
    {
      "cell_type": "code",
      "execution_count": 4,
      "metadata": {
        "id": "-_8soRx59lMV"
      },
      "outputs": [],
      "source": [
        "from Bio.PDB import PDBList, is_aa, PDBIO\n",
        "from Bio.PDB.PDBParser import PDBParser\n",
        "from Bio.SeqUtils import IUPACData\n",
        "from Bio.PDB.PDBIO import Select\n",
        "from Bio.SeqIO.PdbIO import PdbSeqresIterator"
      ]
    },
    {
      "cell_type": "code",
      "execution_count": 5,
      "metadata": {},
      "outputs": [],
      "source": [
        "path = \"..\"\n",
        "path_data = '../data'\n",
        "path_figures = '../figures'\n",
        "\n",
        "\n",
        "import os\n",
        "if not os.path.exists(path_data) :\n",
        "  os.mkdir(path_data)\n",
        "if not os.path.exists(path_figures) :\n",
        "  os.mkdir(path_figures)"
      ]
    },
    {
      "cell_type": "markdown",
      "metadata": {
        "id": "05Z0rpplgjEo"
      },
      "source": [
        "# Parsing"
      ]
    },
    {
      "cell_type": "code",
      "execution_count": 6,
      "metadata": {
        "id": "GLY52f8D9472"
      },
      "outputs": [],
      "source": [
        "# Input\n",
        "pdb_id = '1cu4' # Other interesting PDBs 1byi 3k8y 1nww"
      ]
    },
    {
      "cell_type": "code",
      "execution_count": 7,
      "metadata": {
        "colab": {
          "base_uri": "https://localhost:8080/",
          "height": 53
        },
        "id": "XPGPQoSU45E8",
        "outputId": "716d0aef-babd-45b4-e72e-bc833aaf915f"
      },
      "outputs": [
        {
          "name": "stdout",
          "output_type": "stream",
          "text": [
            "Structure exists: '../pdb/pdb1cu4.ent' \n"
          ]
        },
        {
          "data": {
            "text/plain": [
              "'../pdb/pdb1cu4.ent'"
            ]
          },
          "execution_count": 7,
          "metadata": {},
          "output_type": "execute_result"
        }
      ],
      "source": [
        "# Fetch a PDB file from the website to the current dir\n",
        "# Question: how do you download structures from the PDB?\n",
        "pdbl = PDBList()\n",
        "pdbl.retrieve_pdb_file(pdb_id, pdir=path + \"/pdb\", file_format='pdb')  # Will save a pdbXXXX.ent file"
      ]
    },
    {
      "cell_type": "code",
      "execution_count": 8,
      "metadata": {
        "colab": {
          "base_uri": "https://localhost:8080/"
        },
        "id": "DLgfSgtJ41h2",
        "outputId": "a00510a5-3b06-4a43-e455-459a0b1f9365"
      },
      "outputs": [
        {
          "name": "stdout",
          "output_type": "stream",
          "text": [
            "ID: 1CU4:H\n",
            "Name: 1CU4:H\n",
            "Description: PDB:1CU4 1CU4\n",
            "Database cross-references: PDB:1CU4, PDB:1CU4\n",
            "Number of features: 0\n",
            "/chain=H\n",
            "/molecule_type=protein\n",
            "Seq('KVKLQQSGAELVRSGASVKLSCTASGFNIKDYYIQWVKQRPEQGLEWIGWIDPE...VTS')\n",
            "['annotations', 'dbxrefs', 'description', 'features', 'format', 'id', 'letter_annotations', 'lower', 'name', 'reverse_complement', 'seq', 'translate', 'upper']\n"
          ]
        }
      ],
      "source": [
        "# Get the SEQRES using SeqIO\n",
        "# It finds and parse all SEQRES fields inside a PDB file and create SeqRecord objects\n",
        "with open(path + \"/pdb/pdb{}.ent\".format(pdb_id)) as f:\n",
        "  seq_records = (PdbSeqresIterator(f))\n",
        "  for seq_record in seq_records:\n",
        "    print(seq_record)    \n",
        "    break\n",
        "\n",
        "# Print SeqRecord methods and attributes\n",
        "print([ele for ele in dir(seq_record) if ele[0] != '_'])"
      ]
    },
    {
      "cell_type": "code",
      "execution_count": 9,
      "metadata": {
        "colab": {
          "base_uri": "https://localhost:8080/"
        },
        "id": "AuTRlmi3-CBG",
        "outputId": "8cecf31a-685c-4315-865e-4245a52d9ee9"
      },
      "outputs": [
        {
          "name": "stdout",
          "output_type": "stream",
          "text": [
            "model 0 chain L residue_id (' ', 1, ' ') resname ASP resname_3to1 D\n",
            "atom N 24.86 [29.448 15.246 40.477]\n",
            "atom CA 24.86 [28.298 14.797 41.306]\n",
            "atom C 24.86 [27.455 16.003 41.672]\n",
            "atom O 24.86 [27.995 17.067 41.952]\n",
            "atom CB 34.88 [28.791 14.097 42.565]\n",
            "atom CG 34.88 [29.503 12.784 42.264]\n",
            "atom OD1 34.88 [29.417 11.868 43.12 ]\n",
            "atom OD2 34.88 [30.145 12.664 41.186]\n"
          ]
        }
      ],
      "source": [
        "# Create the structure object\n",
        "pdb_id = '1cu4'\n",
        "structure = PDBParser(QUIET=True).get_structure(pdb_id, path + \"/pdb/pdb{}.ent\".format(pdb_id))\n",
        "\n",
        "# Iterate the structure\n",
        "for model in structure:\n",
        "  for chain in model:\n",
        "    for residue in chain:\n",
        "\n",
        "      # The \"is_aa\" function checks whether a residue is an amino acid and not a modified residue, HETATM, ligand, ion, etc.\n",
        "      if is_aa(residue):\n",
        "\n",
        "        # \"residue.id\" is a tuple that contains: i) hetero_flag, ii) position (residue index), iii) insertion_code \n",
        "        # \"IUPACData\" is a package to conver residues names from 3 letters to 1 letter\n",
        "        print(\"model {} chain {} residue_id {} resname {} resname_3to1 {}\".format(\n",
        "            model.id, chain.id, residue.id, residue.get_resname(),\n",
        "            IUPACData.protein_letters_3to1.get(residue.get_resname().capitalize())))\n",
        "        \n",
        "        # Print all atoms of a residue\n",
        "        for atom in residue:\n",
        "            print(\"atom {} {} {}\".format(atom.id, atom.get_bfactor(), atom.get_coord()))\n",
        "\n",
        "        break\n",
        "      break\n",
        "    break\n",
        "  break"
      ]
    },
    {
      "cell_type": "markdown",
      "metadata": {
        "id": "azWcpX9egp9X"
      },
      "source": [
        "# Cut and save a PDB\n",
        "\n",
        "For example you may want to extract a fragment corresponding to an important part of the protein (domain).\n",
        "\n",
        "We use a sentinel mechanism to know when to start and finish parsing since the PDB numbering is not guaranteed to be continuous and residue numbers can contain insertion codes, i.e. multiple residues can have the same numbers and different insertion codes."
      ]
    },
    {
      "cell_type": "code",
      "execution_count": 10,
      "metadata": {
        "colab": {
          "base_uri": "https://localhost:8080/"
        },
        "id": "4MDXf6uI-Fue",
        "outputId": "688ece02-6935-48a1-d57d-1a9a517c3cd8"
      },
      "outputs": [
        {
          "name": "stdout",
          "output_type": "stream",
          "text": [
            "<Residue ASP het=  resseq=1 icode= >\n",
            "<Residue VAL het=  resseq=2 icode= >\n",
            "<Residue VAL het=  resseq=3 icode= >\n",
            "<Residue MET het=  resseq=4 icode= >\n",
            "<Residue THR het=  resseq=5 icode= >\n",
            "<Residue GLN het=  resseq=6 icode= >\n",
            "<Residue THR het=  resseq=7 icode= >\n",
            "<Residue PRO het=  resseq=8 icode= >\n",
            "<Residue LEU het=  resseq=9 icode= >\n",
            "<Residue SER het=  resseq=10 icode= >\n",
            "<Residue LEU het=  resseq=11 icode= >\n",
            "<Residue SER het=  resseq=12 icode= >\n",
            "<Residue VAL het=  resseq=13 icode= >\n",
            "<Residue THR het=  resseq=14 icode= >\n",
            "<Residue ILE het=  resseq=15 icode= >\n",
            "<Residue GLY het=  resseq=16 icode= >\n",
            "<Residue GLN het=  resseq=17 icode= >\n",
            "<Residue PRO het=  resseq=18 icode= >\n",
            "<Residue ALA het=  resseq=19 icode= >\n",
            "<Residue SER het=  resseq=20 icode= >\n",
            "<Residue ILE het=  resseq=21 icode= >\n",
            "<Residue SER het=  resseq=22 icode= >\n",
            "<Residue CYS het=  resseq=23 icode= >\n",
            "<Residue LYS het=  resseq=24 icode= >\n",
            "<Residue SER het=  resseq=25 icode= >\n",
            "<Residue SER het=  resseq=26 icode= >\n",
            "<Residue GLN het=  resseq=27 icode= >\n",
            "<Residue SER het=  resseq=27 icode=A>\n",
            "<Residue LEU het=  resseq=27 icode=B>\n",
            "<Residue LEU het=  resseq=27 icode=C>\n",
            "<Residue ASP het=  resseq=27 icode=D>\n",
            "<Residue SER het=  resseq=27 icode=E>\n",
            "<Residue ASP het=  resseq=28 icode= >\n",
            "<Residue GLY het=  resseq=29 icode= >\n",
            "<Residue LYS het=  resseq=30 icode= >\n",
            "<Residue THR het=  resseq=31 icode= >\n",
            "<Residue TYR het=  resseq=32 icode= >\n",
            "<Residue LEU het=  resseq=33 icode= >\n",
            "<Residue ILE het=  resseq=34 icode= >\n",
            "<Residue TRP het=  resseq=35 icode= >\n",
            "<Residue VAL het=  resseq=36 icode= >\n",
            "<Residue PHE het=  resseq=37 icode= >\n",
            "<Residue GLN het=  resseq=38 icode= >\n",
            "<Residue ARG het=  resseq=39 icode= >\n",
            "<Residue PRO het=  resseq=40 icode= >\n",
            "<Residue GLY het=  resseq=41 icode= >\n",
            "<Residue GLN het=  resseq=42 icode= >\n",
            "<Residue SER het=  resseq=43 icode= >\n",
            "<Residue PRO het=  resseq=44 icode= >\n",
            "<Residue LYS het=  resseq=45 icode= >\n",
            "<Residue ARG het=  resseq=46 icode= >\n",
            "<Residue LEU het=  resseq=47 icode= >\n",
            "<Residue ILE het=  resseq=48 icode= >\n",
            "<Residue PHE het=  resseq=49 icode= >\n",
            "<Residue LEU het=  resseq=50 icode= >\n",
            "<Residue VAL het=  resseq=51 icode= >\n",
            "<Residue SER het=  resseq=52 icode= >\n",
            "<Residue LYS het=  resseq=53 icode= >\n",
            "<Residue ARG het=  resseq=54 icode= >\n",
            "<Residue ASP het=  resseq=55 icode= >\n",
            "<Residue SER het=  resseq=56 icode= >\n",
            "<Residue GLY het=  resseq=57 icode= >\n",
            "<Residue VAL het=  resseq=58 icode= >\n",
            "<Residue PRO het=  resseq=59 icode= >\n",
            "<Residue ASP het=  resseq=60 icode= >\n",
            "<Residue ARG het=  resseq=61 icode= >\n",
            "<Residue PHE het=  resseq=62 icode= >\n",
            "<Residue THR het=  resseq=63 icode= >\n",
            "<Residue GLY het=  resseq=64 icode= >\n",
            "<Residue SER het=  resseq=65 icode= >\n",
            "<Residue GLY het=  resseq=66 icode= >\n",
            "<Residue SER het=  resseq=67 icode= >\n",
            "<Residue GLY het=  resseq=68 icode= >\n",
            "<Residue THR het=  resseq=69 icode= >\n",
            "<Residue ASP het=  resseq=70 icode= >\n",
            "<Residue PHE het=  resseq=71 icode= >\n",
            "<Residue THR het=  resseq=72 icode= >\n",
            "<Residue LEU het=  resseq=73 icode= >\n",
            "<Residue LYS het=  resseq=74 icode= >\n",
            "<Residue ILE het=  resseq=75 icode= >\n",
            "<Residue SER het=  resseq=76 icode= >\n",
            "<Residue ARG het=  resseq=77 icode= >\n",
            "<Residue VAL het=  resseq=78 icode= >\n",
            "<Residue GLU het=  resseq=79 icode= >\n",
            "<Residue ALA het=  resseq=80 icode= >\n",
            "<Residue GLU het=  resseq=81 icode= >\n",
            "<Residue ASP het=  resseq=82 icode= >\n",
            "<Residue VAL het=  resseq=83 icode= >\n",
            "<Residue GLY het=  resseq=84 icode= >\n",
            "<Residue VAL het=  resseq=85 icode= >\n",
            "<Residue TYR het=  resseq=86 icode= >\n",
            "<Residue TYR het=  resseq=87 icode= >\n",
            "<Residue CYS het=  resseq=88 icode= >\n",
            "<Residue TRP het=  resseq=89 icode= >\n",
            "<Residue GLN het=  resseq=90 icode= >\n",
            "<Residue GLY het=  resseq=91 icode= >\n",
            "<Residue THR het=  resseq=92 icode= >\n",
            "<Residue HIS het=  resseq=93 icode= >\n",
            "<Residue PHE het=  resseq=94 icode= >\n",
            "<Residue PRO het=  resseq=95 icode= >\n",
            "<Residue HIS het=  resseq=95 icode=A>\n",
            "<Residue THR het=  resseq=96 icode= >\n",
            "<Residue VAL het=  resseq=97 icode= >\n",
            "<Residue GLY het=  resseq=99 icode= >\n",
            "<Residue GLY het=  resseq=100 icode= >\n",
            "<Residue GLY het=  resseq=101 icode= >\n",
            "<Residue THR het=  resseq=102 icode= >\n",
            "<Residue LYS het=  resseq=103 icode= >\n",
            "<Residue LEU het=  resseq=104 icode= >\n",
            "<Residue GLU het=  resseq=105 icode= >\n",
            "<Residue ILE het=  resseq=106 icode= >\n"
          ]
        }
      ],
      "source": [
        "# Extract a fragment (domain) excluding hetero and water atoms\n",
        "# Start end positions of a domain identified in PDB 1CU4\n",
        "pdb_id = '1cu4'\n",
        "structure = PDBParser(QUIET=True).get_structure(pdb_id, path + \"/pdb/pdb{}.ent\".format(pdb_id))\n",
        "\n",
        "domain_start = (\" \", 1, \" \")\n",
        "domain_end = (\" \", 106, \" \")\n",
        "\n",
        "domain_residues = []\n",
        "start_flag = False\n",
        "\n",
        "# Iterate residues of specific chain (L) and model (0)\n",
        "for residue in structure[0]['L'].get_residues():  # Model 0, chain L\n",
        "    if residue.id[0] == \" \":  \n",
        "      # Exclude hetero and water atoms\n",
        "        # print(residue.id)\n",
        "        # Get starting position, a piori I don't know where is the first residue\n",
        "        if residue.id == domain_start:\n",
        "            start_flag = True\n",
        "\n",
        "        if start_flag:\n",
        "            domain_residues.append(residue)\n",
        "            #print(residue.id)\n",
        "\n",
        "        # Get ending position\n",
        "        if residue.id == domain_end:\n",
        "            break\n",
        "\n",
        "for residue in domain_residues:\n",
        "  print(residue)"
      ]
    },
    {
      "cell_type": "code",
      "execution_count": 11,
      "metadata": {
        "id": "PZBd9ixQ-Ixf"
      },
      "outputs": [],
      "source": [
        "# Save the PDB\n",
        "class Select(Select):\n",
        "    def __init__(self, chain_ids=None, residues=None):\n",
        "        self.chain_ids = chain_ids\n",
        "        self.residues = residues\n",
        "\n",
        "    def accept_chain(self, chain):\n",
        "        return self.chain_ids is None or chain.id in self.chain_ids\n",
        "\n",
        "    def accept_residue(self, residue):\n",
        "        return self.residues is None or residue in self.residues\n",
        "\n",
        "    def accept_atom(self, atom):\n",
        "        return not atom.is_disordered() or atom.get_altloc() == \"A\"\n",
        "\n"
      ]
    },
    {
      "cell_type": "code",
      "execution_count": 12,
      "metadata": {
        "id": "ryfeGAbR-Ln2"
      },
      "outputs": [],
      "source": [
        "# Save a PDB file containing only a list of selected residues\n",
        "io = PDBIO()\n",
        "io.set_structure(structure[0])\n",
        "io.save(path + \"/pdb/pdb{}_cut.ent\".format(pdb_id), select=Select(residues=domain_residues))"
      ]
    },
    {
      "cell_type": "markdown",
      "metadata": {
        "id": "DJHlwymBHWRy"
      },
      "source": [
        "\n",
        "# Exercise\n",
        "\n",
        "Fetch 1CU4\n",
        "1. How many chains?\n",
        "2. Total number of hetero atoms?\n",
        "3. Total number of water molecules?\n",
        "4. Which is the index of the last residue of chain H?\n",
        "5. Total number of observed residues of chain H?\n",
        "6. Why the total number of residues of  is different from the last index?\n",
        "\n",
        "Fetch 2KKW\n",
        "7. Split the PDB into different files, one file per model. (Need to write a new \"Select\" class to pick specific models)"
      ]
    },
    {
      "cell_type": "markdown",
      "metadata": {
        "id": "LaGwCv2pYdwR"
      },
      "source": [
        "### Solutions"
      ]
    },
    {
      "cell_type": "code",
      "execution_count": 13,
      "metadata": {
        "colab": {
          "base_uri": "https://localhost:8080/"
        },
        "id": "qts_KhNf7Oiq",
        "outputId": "e1426d5b-56b0-4d87-81ff-e5cb0dc1ccb8"
      },
      "outputs": [
        {
          "name": "stdout",
          "output_type": "stream",
          "text": [
            "Downloading PDB structure '1cu4'...\n"
          ]
        }
      ],
      "source": [
        "pdb_id = '1cu4'\n",
        "pdbl = PDBList()\n",
        "pdbl.retrieve_pdb_file(pdb_id, pdir=path, file_format='pdb')  # Will save to pdbXXXX.ent\n",
        "structure = PDBParser(QUIET=True).get_structure(pdb_id, path + \"/pdb/pdb{}.ent\".format(pdb_id))"
      ]
    },
    {
      "cell_type": "code",
      "execution_count": 14,
      "metadata": {
        "colab": {
          "base_uri": "https://localhost:8080/"
        },
        "id": "WmU6tXNdH6p2",
        "outputId": "aab27c6f-030a-44b8-ddc1-a4f5c6e8ea3d"
      },
      "outputs": [
        {
          "name": "stdout",
          "output_type": "stream",
          "text": [
            "chains 3\n"
          ]
        }
      ],
      "source": [
        "#Exercise 1\n",
        "print(\"chains\", len(structure[0]))"
      ]
    },
    {
      "cell_type": "code",
      "execution_count": 15,
      "metadata": {
        "colab": {
          "base_uri": "https://localhost:8080/"
        },
        "id": "6b5aeepVICnZ",
        "outputId": "53e25fda-5df3-4ac2-c5ba-0cbebabbeee5"
      },
      "outputs": [
        {
          "name": "stdout",
          "output_type": "stream",
          "text": [
            "hetero atoms 9\n"
          ]
        }
      ],
      "source": [
        "#Exercise 2\n",
        "print(\"hetero atoms\", sum([1 for chain in structure[0] for residue in chain if residue.id[0] != ' ' for atom in residue]))"
      ]
    },
    {
      "cell_type": "code",
      "execution_count": 16,
      "metadata": {
        "colab": {
          "base_uri": "https://localhost:8080/"
        },
        "id": "g9B2uvy0ICzM",
        "outputId": "d5c3b1ee-ea6e-494d-d1e8-7701e2526090"
      },
      "outputs": [
        {
          "name": "stdout",
          "output_type": "stream",
          "text": [
            "water molecules 9\n",
            "<Residue HOH het=W resseq=215 icode= >\n",
            "<Residue HOH het=W resseq=216 icode= >\n",
            "<Residue HOH het=W resseq=217 icode= >\n",
            "<Residue HOH het=W resseq=214 icode= >\n",
            "<Residue HOH het=W resseq=215 icode= >\n",
            "<Residue HOH het=W resseq=216 icode= >\n",
            "<Residue HOH het=W resseq=217 icode= >\n",
            "<Residue HOH het=W resseq=218 icode= >\n",
            "<Residue HOH het=W resseq=2 icode= >\n"
          ]
        }
      ],
      "source": [
        "#Exercise 3\n",
        "print(\"water molecules\", sum([1 for chain in structure[0] for residue in chain if residue.id[0] == 'W']))\n",
        "for chain in structure[0]:\n",
        "  for residue in chain:\n",
        "    if residue.id[0] != ' ':\n",
        "      print(residue)"
      ]
    },
    {
      "cell_type": "code",
      "execution_count": 17,
      "metadata": {
        "colab": {
          "base_uri": "https://localhost:8080/"
        },
        "id": "iIcY4OrvIFPr",
        "outputId": "e7b5692c-be35-4c98-9c48-42dd09feac54"
      },
      "outputs": [
        {
          "name": "stdout",
          "output_type": "stream",
          "text": [
            "last residue of chain H (' ', 213, ' ')\n"
          ]
        }
      ],
      "source": [
        "#Exercise 4\n",
        "print(\"last residue of chain H\", [residue.id for residue in structure[0]['H'] if residue.id[0] == ' '][-1])\n"
      ]
    },
    {
      "cell_type": "code",
      "execution_count": 18,
      "metadata": {
        "colab": {
          "base_uri": "https://localhost:8080/"
        },
        "id": "8ns8fe_CIFaD",
        "outputId": "135e2836-b9ff-49b6-8913-cb0a06de17dc"
      },
      "outputs": [
        {
          "name": "stdout",
          "output_type": "stream",
          "text": [
            "total elements in chain H 220\n",
            "total residues in chain H 215\n",
            "total residues in chain H 215\n"
          ]
        }
      ],
      "source": [
        "#Exercise 5\n",
        "print(\"total elements in chain H\", len(structure[0]['H']))\n",
        "print(\"total residues in chain H\", len([residue for residue in structure[0]['H'] if is_aa(residue)]))\n",
        "print(\"total residues in chain H\", len([residue for residue in structure[0]['H'] if residue.id[0] == ' ']))"
      ]
    },
    {
      "cell_type": "code",
      "execution_count": 19,
      "metadata": {
        "colab": {
          "base_uri": "https://localhost:8080/"
        },
        "id": "LiMKm-uPIF2t",
        "outputId": "164fd113-46a7-4737-ccee-ef261c69e1c4"
      },
      "outputs": [
        {
          "name": "stdout",
          "output_type": "stream",
          "text": [
            "some elements are not standard residues [('W', 214, ' '), ('W', 215, ' '), ('W', 216, ' '), ('W', 217, ' '), ('W', 218, ' ')]\n",
            "some elements are water molecules [('W', 214, ' '), ('W', 215, ' '), ('W', 216, ' '), ('W', 217, ' '), ('W', 218, ' ')]\n",
            "some residues have insertion codes [(' ', 52, 'A'), (' ', 82, 'A'), (' ', 82, 'B'), (' ', 82, 'C')]\n"
          ]
        }
      ],
      "source": [
        "#Exercise 6\n",
        "print(\"some elements are not standard residues\", [residue.id for residue in structure[0]['H'] if not is_aa(residue)])\n",
        "print(\"some elements are water molecules\", [residue.id for residue in structure[0]['H'] if residue.id[0] != ' '])\n",
        "print(\"some residues have insertion codes\", [residue.id for residue in structure[0]['H'] if residue.id[2] != ' '])"
      ]
    },
    {
      "cell_type": "code",
      "execution_count": 20,
      "metadata": {
        "id": "yBkE9vQc7f3L"
      },
      "outputs": [],
      "source": [
        "# Define the model select class\n",
        "class ModelSelect(Select):\n",
        "    \"\"\"\n",
        "    Select model for BioPython PDB save\n",
        "    \"\"\"\n",
        "    def __init__(self, model_ids):\n",
        "        self.model_ids = model_ids\n",
        "        self.chain_ids = None\n",
        "        self.residues = None\n",
        "\n",
        "    def accept_model(self, model):\n",
        "        return (model.serial_num) in self.model_ids"
      ]
    },
    {
      "cell_type": "code",
      "execution_count": 21,
      "metadata": {
        "colab": {
          "base_uri": "https://localhost:8080/"
        },
        "id": "26LF--NllTQm",
        "outputId": "b278f88e-7c36-4d41-e4ef-8feab7d72dce"
      },
      "outputs": [
        {
          "name": "stdout",
          "output_type": "stream",
          "text": [
            "Downloading PDB structure '2kkw'...\n"
          ]
        }
      ],
      "source": [
        "# Fetch 2KKW\n",
        "pdb_id = '2kkw'\n",
        "pdbl = PDBList()\n",
        "pdbl.retrieve_pdb_file(pdb_id, pdir=path + \"/pdb\", file_format='pdb')  # Will save to pdbXXXX.ent\n",
        "structure = PDBParser(QUIET=True).get_structure(pdb_id, path + \"/pdb/pdb{}.ent\".format(pdb_id))\n",
        "\n",
        "# Save models\n",
        "io = PDBIO()\n",
        "io.set_structure(structure)\n",
        "for model_index, model in enumerate(structure):\n",
        "    io.save(path + \"/pdb/pdb{}_{}.ent\".format(pdb_id, model_index + 1), select=ModelSelect([model_index + 1]))"
      ]
    }
  ],
  "metadata": {
    "colab": {
      "provenance": []
    },
    "kernelspec": {
      "display_name": "Python 3",
      "name": "python3"
    },
    "language_info": {
      "codemirror_mode": {
        "name": "ipython",
        "version": 3
      },
      "file_extension": ".py",
      "mimetype": "text/x-python",
      "name": "python",
      "nbconvert_exporter": "python",
      "pygments_lexer": "ipython3",
      "version": "3.11.3"
    }
  },
  "nbformat": 4,
  "nbformat_minor": 0
}
