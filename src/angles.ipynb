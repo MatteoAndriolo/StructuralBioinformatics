{
 "cells": [
  {
   "cell_type": "markdown",
   "metadata": {
    "id": "tWcPa-0sm_fV"
   },
   "source": [
    "# Ramachandran plot\n",
    "\n",
    "- Calculate angles by hands\n",
    "- Build peptides\n",
    "- Get dihedral angles\n",
    "- Build Ramachandran points\n",
    "- Plot Ramachandran regions and points\n",
    "\n",
    "\n",
    "### Dihedral angles\n",
    "- Polipeptide chain \n",
    "- Residue number \n",
    "- Main chain atom \n",
    "- Dihedral angles\n",
    "```\n",
    "        /\n",
    "     - N          > 3 N            PSI   PHI  PSI\n",
    "        \\\n",
    "         C - O    > 2 C       PHI  PSI   PHI\n",
    "     \\  /\n",
    "      CA          > 2 CA      PHI  PSI\n",
    "     /  \\\n",
    "    R    N -      > 2 N  PSI  PHI  PSI\n",
    "        /\n",
    "   O - C          > 1 C  PSI  PHI\n",
    "        \\  /\n",
    "         CA       > 1 CA PSI\n",
    "        /  \\\n",
    "       N    R     > 1 N  PSI\n",
    "```"
   ]
  },
  {
   "cell_type": "code",
   "execution_count": null,
   "metadata": {
    "id": "-dznZA2CL6zq"
   },
   "outputs": [],
   "source": [
    "import matplotlib.colors as mplcolors\n",
    "import matplotlib.pyplot as plt\n",
    "import numpy as np\n",
    "from Bio.PDB import PDBList, PPBuilder, calc_angle, calc_dihedral, is_aa\n",
    "from Bio.PDB.PDBParser import PDBParser\n",
    ""
   ]
  },
  {
   "cell_type": "code",
   "execution_count": null,
   "metadata": {},
   "outputs": [],
   "source": [
    "path = \"..\"\n",
    "path_data = \"../data\"\n",
    "path_figures = \"../figures\"\n",
    "\n",
    "\n",
    "import os\n",
    "\n",
    "if not os.path.exists(path_data):\n",
    "    os.mkdir(path_data)\n",
    "if not os.path.exists(path_figures):\n",
    "    os.mkdir(path_figures)\n",
    ""
   ]
  },
  {
   "cell_type": "code",
   "execution_count": null,
   "metadata": {
    "colab": {
     "base_uri": "https://localhost:8080/"
    },
    "id": "XG8BRUd-MPsJ",
    "outputId": "86a4c497-1d41-47c4-8f8f-d7369c324698"
   },
   "outputs": [],
   "source": [
    "pdb_id = \"1cu4\"\n",
    "\n",
    "# Fetch a PDB file to the current dir\n",
    "pdbl = PDBList()\n",
    "pdbl.retrieve_pdb_file(pdb_id, pdir=path + \"/pdb\", file_format=\"pdb\")\n",
    "\n",
    "# Load the structure\n",
    "structure = PDBParser(QUIET=True).get_structure(\n",
    "    pdb_id, path + \"/pdb/pdb{}.ent\".format(pdb_id)\n",
    ")\n",
    ""
   ]
  },
  {
   "cell_type": "code",
   "execution_count": null,
   "metadata": {
    "colab": {
     "base_uri": "https://localhost:8080/"
    },
    "id": "xbI9m7WGMHE1",
    "outputId": "4d79edea-060e-4681-ddea-2eebfdf5e139"
   },
   "outputs": [],
   "source": [
    "# Measure distance, angle, dihedral\n",
    "atom1 = structure[0][\"L\"][52][\"C\"]\n",
    "atom2 = structure[0][\"L\"][53][\"N\"]\n",
    "atom3 = structure[0][\"L\"][53][\"CA\"]\n",
    "atom4 = structure[0][\"L\"][53][\"C\"]\n",
    "\n",
    "print(\n",
    "    \"Distance {} - {} --> {} \\u212B\".format(atom1.full_id, atom4.full_id, atom1 - atom4)\n",
    ")\n",
    "print(\n",
    "    \"Angle\",\n",
    "    math.degrees(\n",
    "        calc_angle(atom1.get_vector(), atom2.get_vector(), atom3.get_vector())\n",
    "    ),\n",
    ")\n",
    "print(\n",
    "    \"Angle radians\",\n",
    "    calc_angle(atom1.get_vector(), atom2.get_vector(), atom3.get_vector()),\n",
    ")\n",
    "print(\n",
    "    \"Dihedral (PHI)\",\n",
    "    math.degrees(\n",
    "        calc_dihedral(\n",
    "            atom1.get_vector(),\n",
    "            atom2.get_vector(),\n",
    "            atom3.get_vector(),\n",
    "            atom4.get_vector(),\n",
    "        )\n",
    "    ),\n",
    ")\n",
    ""
   ]
  },
  {
   "cell_type": "code",
   "execution_count": null,
   "metadata": {
    "colab": {
     "base_uri": "https://localhost:8080/"
    },
    "id": "G8rMJVf0MXiU",
    "outputId": "30450b7e-faab-4fdb-f508-1e9ed89a7dd5"
   },
   "outputs": [],
   "source": [
    "# Build the peptides (reveal structure holes) and print sequences\n",
    "print(\"Peptides\")\n",
    "ppb = PPBuilder()  # PolyPeptideBuilder\n",
    "for model in structure:\n",
    "    for chain in model:\n",
    "        print(chain.id, len([residue for residue in chain if is_aa(residue)]))\n",
    "        for pp in ppb.build_peptides(chain):\n",
    "            print(len(pp), pp.get_sequence())\n",
    ""
   ]
  },
  {
   "cell_type": "code",
   "execution_count": null,
   "metadata": {
    "id": "4M4YatajNH1j"
   },
   "outputs": [],
   "source": [
    "# Calculate PSI and PHI\n",
    "rama = {}  # { chain : [[residue_1, ...], [phi_residue_1, ...], [psi_residue_2, ...] ] }\n",
    "for model in structure:\n",
    "    for chain in model:\n",
    "        for pp in ppb.build_peptides(chain):\n",
    "\n",
    "            phi_psi = pp.get_phi_psi_list()  # [(phi_residue_1, psi_residue_1), ...]\n",
    "            for i, residue in enumerate(pp):\n",
    "                # print(model, chain, i, residue, phi_psi[i])\n",
    "\n",
    "                # Convert radians to degrees and remove first and last value that are None\n",
    "                if phi_psi[i][0] is not None and phi_psi[i][1] is not None:\n",
    "                    rama.setdefault(chain.id, [[], [], []])\n",
    "                    rama[chain.id][0].append(residue)\n",
    "                    rama[chain.id][1].append(math.degrees(phi_psi[i][0]))\n",
    "                    rama[chain.id][2].append(math.degrees(phi_psi[i][1]))\n",
    ""
   ]
  },
  {
   "cell_type": "code",
   "execution_count": null,
   "metadata": {
    "colab": {
     "base_uri": "https://localhost:8080/",
     "height": 303
    },
    "id": "CBDXH4j2Nmxv",
    "outputId": "b0052862-a9d7-4cbd-cb7a-c9774a7a17ab"
   },
   "outputs": [],
   "source": [
    "# Ramachandran regions\n",
    "# 2 = 90%, 1 = 60%\n",
    "regions_matrix = []\n",
    "with open(path_data + \"/ramachandran.dat\") as f:\n",
    "    for line in f:\n",
    "        if line:\n",
    "            regions_matrix.append([int(ele) for ele in line.strip().split()])\n",
    "\n",
    "# Plot Ramachandran regions\n",
    "cmap = mplcolors.ListedColormap([\"#FFFFFF\", \"#B3E8FF\", \"#7FD9FF\"])\n",
    "\n",
    "f, axes = plt.subplots(1, len(rama), figsize=(12, 12))\n",
    "axes = np.array(axes).reshape(\n",
    "    -1\n",
    ")  # Hack to give consistency for single/multiple suplots (-1 force reshape to infer dimensions)\n",
    "for ax, chain_id in zip(axes, rama):\n",
    "\n",
    "    # Plot regions (60 percentile & 90 percentile)\n",
    "    im = ax.imshow(regions_matrix, cmap=cmap, extent=(-180, 180, -180, 180))\n",
    "\n",
    "    # Plot points\n",
    "    ax.scatter(rama[chain_id][1], rama[chain_id][2], s=3, alpha=0.5)\n",
    "\n",
    "    ax.set_xlabel(\"phi\")\n",
    "    ax.set_ylabel(\"psi\")\n",
    "    ax.set_title(\"Chain {}\".format(chain_id))\n",
    "\n",
    "plt.tight_layout()  # Remove figure padding\n",
    "plt.savefig(path + \"/figures/ramachandran_regions.png\", dpi=300, bbox_inches=\"tight\")\n",
    ""
   ]
  },
  {
   "cell_type": "markdown",
   "metadata": {
    "id": "KRN0lOpINosh"
   },
   "source": [
    "#Exercises\n",
    "\n",
    "* Compare the Ramachandran plot with DynoPlot plugin https://raw.githubusercontent.com/Pymol-Scripts/Pymol-script-repo/master/plugins/dynoplot.py\n",
    "\n",
    "* Calculate how many points are outside high confidence regions for the PDB 1az5 and how many are in the middle confidence range\n"
   ]
  }
 ],
 "metadata": {
  "colab": {
   "provenance": []
  },
  "kernelspec": {
   "display_name": "Python 3",
   "name": "python3"
  },
  "language_info": {
   "codemirror_mode": {
    "name": "ipython",
    "version": 3
   },
   "file_extension": ".py",
   "mimetype": "text/x-python",
   "name": "python",
   "nbconvert_exporter": "python",
   "pygments_lexer": "ipython3",
   "version": "3.11.3"
  }
 },
 "nbformat": 4,
 "nbformat_minor": 0
}
