{
  "cells": [
    {
      "cell_type": "code",
      "execution_count": 13,
      "metadata": {
        "id": "2Pg5GV8wV7Le"
      },
      "outputs": [],
      "source": [
        "import math\n",
        "import numpy as np\n",
        "\n",
        "from Bio.PDB import PDBList, PPBuilder, is_aa\n",
        "from Bio.PDB.PDBParser import PDBParser\n",
        "from Bio.PDB import PDBList, NeighborSearch\n",
        "\n",
        "import matplotlib.pyplot as plt\n",
        "import matplotlib.colors as mplcolors"
      ]
    },
    {
      "cell_type": "code",
      "execution_count": 14,
      "metadata": {},
      "outputs": [],
      "source": [
        "path = \"..\"\n",
        "path_data = '../data'\n",
        "path_figures = '../figures'\n",
        "\n",
        "\n",
        "import os\n",
        "if not os.path.exists(path_data) :\n",
        "  os.mkdir(path_data)\n",
        "if not os.path.exists(path_figures) :\n",
        "  os.mkdir(path_figures)"
      ]
    },
    {
      "attachments": {},
      "cell_type": "markdown",
      "metadata": {},
      "source": [
        "# Function definition"
      ]
    },
    {
      "attachments": {},
      "cell_type": "markdown",
      "metadata": {},
      "source": [
        "## Distance matrix"
      ]
    },
    {
      "cell_type": "code",
      "execution_count": 15,
      "metadata": {
        "id": "aB0jaLWGUu9W"
      },
      "outputs": [],
      "source": [
        "def get_distance_matrix(atoms, seq_sep=6):\n",
        "  \"\"\"\n",
        "  Calculate a distance matrix considering only \n",
        "  CA atoms and a minimum sequence separation.  \n",
        "  Return a Numpy array\n",
        "  \"\"\"\n",
        "  distances = []\n",
        "  for atom1 in atoms:\n",
        "    row = []\n",
        "    for atom2 in atoms:\n",
        "      # Check sequence separation\n",
        "      # if abs(atom1.id[1] - atom2.id[1]) >= seq_sep:\n",
        "      if abs(atoms.index(atom1) - atoms.index(atom2)) >= seq_sep:\n",
        "        row.append(atom1 - atom2)\n",
        "      else:\n",
        "        row.append(None) # For atoms not respecting sequence separation\n",
        "    distances.append(row)\n",
        "  return np.array(distances, dtype=float)"
      ]
    },
    {
      "attachments": {},
      "cell_type": "markdown",
      "metadata": {},
      "source": [
        "## Contact map"
      ]
    },
    {
      "cell_type": "code",
      "execution_count": 16,
      "metadata": {
        "id": "SJXxfrQNVach"
      },
      "outputs": [],
      "source": [
        "def get_contact_map(atoms, threshold=3.5, seq_sep=6):\n",
        "\n",
        "  # Calculate contacts\n",
        "  ns = NeighborSearch(atoms)\n",
        "\n",
        "  # Init a empty matrix\n",
        "  contact_map_nb = np.zeros((len(atoms), len(atoms)))\n",
        "\n",
        "  # \"search_all\" returns the list of atoms in contact based on a distance cutoff\n",
        "  # level=\"R\" returns pairs of residues instead of atoms\n",
        "  for atom1, atom2 in ns.search_all(threshold, level=\"A\"):\n",
        "    # Sequence separation >= 6\n",
        "    if abs(atoms.index(atom1) - atoms.index(atom2)) >= seq_sep:\n",
        "      contact_map_nb[atoms.index(atom1), atoms.index(atom2)] = 1\n",
        "      # Add also the other part of the matrix\n",
        "      contact_map_nb[atoms.index(atom2), atoms.index(atom1)] = 1\n",
        "  return contact_map_nb"
      ]
    },
    {
      "attachments": {},
      "cell_type": "markdown",
      "metadata": {},
      "source": [
        "## Ramachandran plot"
      ]
    },
    {
      "cell_type": "code",
      "execution_count": 17,
      "metadata": {
        "id": "3_F-KDwwVcuZ"
      },
      "outputs": [],
      "source": [
        "def get_rama(structure, chain):\n",
        "  angles = [[], [], []]\n",
        "  ppb = PPBuilder()  # PolyPeptideBuilder\n",
        "  \n",
        "  # Calculate PSI and PHI\n",
        "  for pp in ppb.build_peptides(structure[0][chain]):\n",
        "\n",
        "      phi_psi = pp.get_phi_psi_list()  # [(phi_residue_1, psi_residue_1), ...]\n",
        "      for i, residue in enumerate(pp):\n",
        "          # print(model, chain, i, residue, phi_psi[i])\n",
        "\n",
        "          # Convert radians to degrees and remove first and last value that are None\n",
        "          if phi_psi[i][0] is not None and phi_psi[i][1] is not None:\n",
        "              angles[0].append(residue)\n",
        "              angles[1].append(math.degrees(phi_psi[i][0]))\n",
        "              angles[2].append(math.degrees(phi_psi[i][1]))\n",
        "  return angles\n",
        "  "
      ]
    },
    {
      "cell_type": "code",
      "execution_count": 18,
      "metadata": {
        "id": "15pqzOyB9KTv"
      },
      "outputs": [],
      "source": [
        "# Ramachandran regions\n",
        "regions_matrix = []\n",
        "with open(path_data + \"/ramachandran.dat\") as f:\n",
        "    for line in f:\n",
        "        if line:\n",
        "            regions_matrix.append([int(ele) for ele in line.strip().split()])"
      ]
    },
    {
      "cell_type": "code",
      "execution_count": 20,
      "metadata": {
        "colab": {
          "base_uri": "https://localhost:8080/"
        },
        "id": "eL9movqrUvIL",
        "outputId": "69914a63-12c1-4b7b-892e-ed2f85b9ffc1"
      },
      "outputs": [
        {
          "name": "stdout",
          "output_type": "stream",
          "text": [
            "1ot6 A\n",
            "Downloading PDB structure '1ot6'...\n"
          ]
        }
      ],
      "source": [
        "pdb_list = [(\"1ot6\",\"A\")]\n",
        "for pdb_id, chain in pdb_list: # [(\"2w3z\", \"A\")]\n",
        "  \n",
        "    print(pdb_id, chain)\n",
        "\n",
        "    # Load the structure\n",
        "    pdbl = PDBList()\n",
        "    pdbl.retrieve_pdb_file(pdb_id, pdir=path + '/pdbs', file_format='pdb')\n",
        "    structure = PDBParser(QUIET=True).get_structure(pdb_id, path + \"/pdbs/pdb{}.ent\".format(pdb_id))\n",
        "\n",
        "    # Count Rama outliers\n",
        "    rama = get_rama(structure, chain)\n",
        "    rama_count = {}  # {ramachandran_regions: rama_count}\n",
        "    for residue, phi, psi in zip(*rama):\n",
        "        phi_col = int(phi) + 179\n",
        "        psi_row = -1 * int(psi) + 179\n",
        "        rama_count.setdefault(regions_matrix[psi_row][phi_col], 0)\n",
        "        rama_count[regions_matrix[psi_row][phi_col]] += 1\n",
        "\n",
        "    # Select atoms\n",
        "    selected_atoms = [residue['CB'] if residue.has_id('CB') else residue['CA'] for residue in structure[0][chain] if residue.id[0] == \" \"]\n",
        "\n",
        "    # Contacts calculated with a custom function\n",
        "    dist_matrix = get_distance_matrix(selected_atoms, seq_sep=0)\n",
        "    contact_map = (dist_matrix[:] < 5).astype(float)\n",
        "\n",
        "    # Contacts calculated with Neighbours Search\n",
        "    contact_map_nb = get_contact_map(selected_atoms, threshold=5.0, seq_sep=0)\n",
        "\n",
        "    # Create the figure and axes objects\n",
        "    fig, axes = plt.subplots(4, 2, figsize=(12, 20))\n",
        "\n",
        "    # Plot Ramachandran regions (60 percentile & 90 percentile)\n",
        "    cmap = mplcolors.ListedColormap(['#FFFFFF', '#B3E8FF', '#7FD9FF'])\n",
        "    im = axes[0, 0].imshow(regions_matrix, cmap=cmap, extent=(-180, 180, -180, 180))\n",
        "    axes[0, 0].set_xlabel('phi')\n",
        "    axes[0, 0].set_ylabel('psi')\n",
        "\n",
        "    # Plot actual Ramachandran values\n",
        "    axes[0, 0].scatter(rama[1], rama[2], s=3, alpha=0.5)\n",
        "    axes[0, 0].set_title(\"Ramachandran: {}\".format(rama_count))\n",
        "\n",
        "    # Plot contact maps\n",
        "    axes[0, 1].imshow(dist_matrix, interpolation=\"none\")\n",
        "    axes[0, 1].set_title(\"{}_{}\".format(pdb_id, chain))\n",
        "\n",
        "    axes[1, 0].imshow(np.triu(contact_map, 0), interpolation=\"none\")\n",
        "    axes[1, 0].set_title(\"Contacts custom {}\\nContacts NS {} + {} diagonal\".format(\n",
        "        np.triu(contact_map, 0).sum(), np.triu(contact_map_nb, 0).sum(), len(selected_atoms)))\n",
        "\n",
        "    axes[1, 1].imshow(np.triu(contact_map, 0) - np.triu(contact_map, 6), interpolation=\"none\")\n",
        "    axes[1, 1].set_title(\"0-6: {}\".format((np.triu(contact_map, 0) - np.triu(contact_map, 6)).sum()))\n",
        "\n",
        "    axes[2, 0].imshow(np.triu(contact_map, 6) - np.triu(contact_map, 12), interpolation=\"none\")\n",
        "    axes[2, 0].set_title(\"7-12: {}\".format((np.triu(contact_map, 6) - np.triu(contact_map, 12)).sum()))\n",
        "\n",
        "    axes[2, 1].imshow(np.triu(contact_map, 12) - np.triu(contact_map, 24), interpolation=\"none\")\n",
        "    axes[2, 1].set_title(\"13-24: {}\".format((np.triu(contact_map, 12) - np.triu(contact_map, 24)).sum()))\n",
        "\n",
        "    axes[3, 0].imshow(np.triu(contact_map, 24) - np.triu(contact_map, 9999), interpolation=\"none\")\n",
        "    axes[3, 0].set_title(\"25-inf: {}\".format((np.triu(contact_map, 24) - np.triu(contact_map, 999999)).sum()))\n",
        "\n",
        "    # Set font size\n",
        "    plt.rc('font', size=15)\n",
        "    plt.rc('axes', titlesize=15)\n",
        "\n",
        "    fig.tight_layout()\n",
        "    fig.subplots_adjust(hspace=0.3)\n",
        "\n",
        "    # Save figure and close the plot object\n",
        "    plt.savefig(path + '/figures/{}_{}.png'.format(pdb_id, chain), dpi=150, bbox_inches='tight')\n",
        "    plt.close()\n",
        "\n",
        "    # break"
      ]
    }
  ],
  "metadata": {
    "colab": {
      "provenance": []
    },
    "kernelspec": {
      "display_name": "Python 3",
      "name": "python3"
    },
    "language_info": {
      "codemirror_mode": {
        "name": "ipython",
        "version": 3
      },
      "file_extension": ".py",
      "mimetype": "text/x-python",
      "name": "python",
      "nbconvert_exporter": "python",
      "pygments_lexer": "ipython3",
      "version": "3.11.3"
    }
  },
  "nbformat": 4,
  "nbformat_minor": 0
}
